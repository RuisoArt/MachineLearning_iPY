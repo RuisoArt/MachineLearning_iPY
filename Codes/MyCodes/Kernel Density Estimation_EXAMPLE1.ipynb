{
 "cells": [
  {
   "cell_type": "markdown",
   "id": "d6659778",
   "metadata": {},
   "source": [
    "# Kernel Density Estimation\n",
    "##### Ing.Luis Felipe Narvaez Gomez. E-mail: luis.narvaez@usantoto.edu.co. Cod: 2312660. Facultad de Ingenieria de Sistemas. USTA.\n",
    "\n",
    "References:\n",
    "https://jakevdp.github.io/PythonDataScienceHandbook/05.13-kernel-density-estimation.html"
   ]
  },
  {
   "cell_type": "code",
   "execution_count": 1,
   "id": "688e5e9b",
   "metadata": {},
   "outputs": [],
   "source": [
    "%matplotlib inline\n",
    "import matplotlib.pyplot as plt\n",
    "import seaborn as sns; sns.set()\n",
    "import numpy as np"
   ]
  },
  {
   "cell_type": "code",
   "execution_count": 2,
   "id": "17738b81",
   "metadata": {},
   "outputs": [],
   "source": [
    "from IPython.display import Image"
   ]
  },
  {
   "cell_type": "code",
   "execution_count": 3,
   "id": "f0fa711b",
   "metadata": {},
   "outputs": [],
   "source": [
    "from scipy.stats import norm"
   ]
  },
  {
   "cell_type": "code",
   "execution_count": 4,
   "id": "5a9d04f3",
   "metadata": {},
   "outputs": [],
   "source": [
    "from sklearn.neighbors import KernelDensity\n",
    "from sklearn.model_selection import GridSearchCV\n",
    "from sklearn.model_selection import LeaveOneOut"
   ]
  },
  {
   "cell_type": "markdown",
   "id": "502abd13",
   "metadata": {},
   "source": [
    "# KDE: on a Sphere\n",
    "\n",
    "Quizás el uso más común de KDE es representar gráficamente distribuciones de puntos.\n",
    "\n",
    "Por ejemplo, en la biblioteca de visualización de Seaborn, KDE está integrado y se usa automáticamente para ayudar a visualizar puntos en una y dos dimensiones.\n",
    "\n",
    "Aquí veremos un uso un poco más sofisticado de KDE para la visualización de distribuciones.Haremos uso de algunos datos geográficos que se pueden cargar con Scikit-Learn: las distribuciones geográficas de las observaciones registradas de dos mamíferos sudamericanos, Bradypus variegatus (el perezoso de garganta marrón) y Microryzomys minutus (la pequeña rata arrocera del bosque)."
   ]
  },
  {
   "cell_type": "code",
   "execution_count": 5,
   "id": "4ac854ff",
   "metadata": {},
   "outputs": [],
   "source": [
    "from sklearn.datasets import fetch_species_distributions\n",
    "\n",
    "data = fetch_species_distributions()\n",
    "\n",
    "# Get matrices/arrays of species IDs and locations\n",
    "latlon = np.vstack([data.train['dd lat'], data.train['dd long']]).T\n",
    "species = np.array([d.decode('ascii').startswith('micro') for d in data.train['species']], dtype='int')"
   ]
  },
  {
   "cell_type": "markdown",
   "id": "0e569290",
   "metadata": {},
   "source": [
    "Con estos datos cargados, podemos usar el kit de herramientas de mapa base, para trazar las ubicaciones observadas de estas dos especies en el mapa de América del Sur."
   ]
  },
  {
   "cell_type": "code",
   "execution_count": null,
   "id": "8022a28b",
   "metadata": {},
   "outputs": [],
   "source": [
    "## instalar en la power sheel de anaconda : conda install basemap"
   ]
  },
  {
   "cell_type": "code",
   "execution_count": 10,
   "id": "22b4d3ab",
   "metadata": {},
   "outputs": [],
   "source": [
    "import mpl_toolkits"
   ]
  },
  {
   "cell_type": "code",
   "execution_count": 12,
   "id": "7e6908d3",
   "metadata": {},
   "outputs": [
    {
     "ename": "ImportError",
     "evalue": "cannot import name 'construct_grids' from 'sklearn.datasets' (D:\\SOFTWARE\\Anaconda 3\\lib\\site-packages\\sklearn\\datasets\\__init__.py)",
     "output_type": "error",
     "traceback": [
      "\u001b[1;31m---------------------------------------------------------------------------\u001b[0m",
      "\u001b[1;31mImportError\u001b[0m                               Traceback (most recent call last)",
      "Input \u001b[1;32mIn [12]\u001b[0m, in \u001b[0;36m<cell line: 4>\u001b[1;34m()\u001b[0m\n\u001b[0;32m      1\u001b[0m \u001b[38;5;66;03m#from mpl_toolkits.basemap import Basemap\u001b[39;00m\n\u001b[0;32m      2\u001b[0m \n\u001b[0;32m      3\u001b[0m \u001b[38;5;66;03m#from sklearn.datasets.species_distributions import construct_grids\u001b[39;00m\n\u001b[1;32m----> 4\u001b[0m \u001b[38;5;28;01mfrom\u001b[39;00m \u001b[38;5;21;01msklearn\u001b[39;00m\u001b[38;5;21;01m.\u001b[39;00m\u001b[38;5;21;01mdatasets\u001b[39;00m \u001b[38;5;28;01mimport\u001b[39;00m construct_grids\n\u001b[0;32m      6\u001b[0m xgrid, ygrid \u001b[38;5;241m=\u001b[39m construct_grids(data)\n\u001b[0;32m      8\u001b[0m \u001b[38;5;66;03m# plot coastlines with basemap\u001b[39;00m\n\u001b[0;32m      9\u001b[0m \n\u001b[0;32m     10\u001b[0m \u001b[38;5;66;03m# Basemap => mpl_toolkits.Basemap\u001b[39;00m\n",
      "\u001b[1;31mImportError\u001b[0m: cannot import name 'construct_grids' from 'sklearn.datasets' (D:\\SOFTWARE\\Anaconda 3\\lib\\site-packages\\sklearn\\datasets\\__init__.py)"
     ]
    }
   ],
   "source": [
    "#from mpl_toolkits.basemap import Basemap\n",
    "\n",
    "#from sklearn.datasets.species_distributions import construct_grids\n",
    "from sklearn.datasets import construct_grids\n",
    "\n",
    "xgrid, ygrid = construct_grids(data)\n",
    "\n",
    "# plot coastlines with basemap\n",
    "\n",
    "# Basemap => mpl_toolkits.Basemap\n",
    "\n",
    "m = mpl_toolkits.Basemap(projection='cyl', \n",
    "            resolution='c', \n",
    "            llcrnrlat=ygrid.min(), \n",
    "            urcrnrlat=ygrid.max(),\n",
    "            llcrnrlon=xgrid.min(), \n",
    "            urcrnrlon=xgrid.max())\n",
    "\n",
    "\n",
    "m.drawmapboundary(fill_color='#DDEEFF')\n",
    "m.fillcontinents(color='#FFEEDD')\n",
    "m.drawcoastlines(color='gray', zorder=2)\n",
    "m.drawcountries(color='gray', zorder=2)\n",
    "\n",
    "# plot locations\n",
    "m.scatter(latlon[:, 1], latlon[:, 0], zorder=3,c=species, cmap='rainbow', latlon=True)"
   ]
  },
  {
   "cell_type": "code",
   "execution_count": null,
   "id": "55a5b91e",
   "metadata": {},
   "outputs": [],
   "source": []
  },
  {
   "cell_type": "code",
   "execution_count": null,
   "id": "b556670a",
   "metadata": {},
   "outputs": [],
   "source": []
  }
 ],
 "metadata": {
  "kernelspec": {
   "display_name": "Python 3 (ipykernel)",
   "language": "python",
   "name": "python3"
  },
  "language_info": {
   "codemirror_mode": {
    "name": "ipython",
    "version": 3
   },
   "file_extension": ".py",
   "mimetype": "text/x-python",
   "name": "python",
   "nbconvert_exporter": "python",
   "pygments_lexer": "ipython3",
   "version": "3.9.13"
  }
 },
 "nbformat": 4,
 "nbformat_minor": 5
}
